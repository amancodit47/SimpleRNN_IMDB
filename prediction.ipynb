{
 "cells": [
  {
   "cell_type": "code",
   "execution_count": 1,
   "metadata": {},
   "outputs": [],
   "source": [
    "# Step 1: Import Libraries and Load the Model\n",
    "import numpy as np\n",
    "import tensorflow as tf\n",
    "from tensorflow.keras.datasets import imdb\n",
    "from tensorflow.keras.preprocessing import sequence\n",
    "from tensorflow.keras.models import load_model"
   ]
  },
  {
   "cell_type": "code",
   "execution_count": 2,
   "metadata": {},
   "outputs": [],
   "source": [
    "\n",
    "# Load the IMDB dataset word index\n",
    "word_index = imdb.get_word_index()\n",
    "reverse_word_index = {value: key for key, value in word_index.items()}"
   ]
  },
  {
   "cell_type": "code",
   "execution_count": 3,
   "metadata": {},
   "outputs": [
    {
     "name": "stderr",
     "output_type": "stream",
     "text": [
      "WARNING:absl:Compiled the loaded model, but the compiled metrics have yet to be built. `model.compile_metrics` will be empty until you train or evaluate the model.\n"
     ]
    },
    {
     "data": {
      "text/html": [
       "<pre style=\"white-space:pre;overflow-x:auto;line-height:normal;font-family:Menlo,'DejaVu Sans Mono',consolas,'Courier New',monospace\"><span style=\"font-weight: bold\">Model: \"sequential\"</span>\n",
       "</pre>\n"
      ],
      "text/plain": [
       "\u001b[1mModel: \"sequential\"\u001b[0m\n"
      ]
     },
     "metadata": {},
     "output_type": "display_data"
    },
    {
     "data": {
      "text/html": [
       "<pre style=\"white-space:pre;overflow-x:auto;line-height:normal;font-family:Menlo,'DejaVu Sans Mono',consolas,'Courier New',monospace\">┏━━━━━━━━━━━━━━━━━━━━━━━━━━━━━━━━━┳━━━━━━━━━━━━━━━━━━━━━━━━┳━━━━━━━━━━━━━━━┓\n",
       "┃<span style=\"font-weight: bold\"> Layer (type)                    </span>┃<span style=\"font-weight: bold\"> Output Shape           </span>┃<span style=\"font-weight: bold\">       Param # </span>┃\n",
       "┡━━━━━━━━━━━━━━━━━━━━━━━━━━━━━━━━━╇━━━━━━━━━━━━━━━━━━━━━━━━╇━━━━━━━━━━━━━━━┩\n",
       "│ embedding (<span style=\"color: #0087ff; text-decoration-color: #0087ff\">Embedding</span>)           │ (<span style=\"color: #00af00; text-decoration-color: #00af00\">32</span>, <span style=\"color: #00af00; text-decoration-color: #00af00\">500</span>, <span style=\"color: #00af00; text-decoration-color: #00af00\">128</span>)         │     <span style=\"color: #00af00; text-decoration-color: #00af00\">1,280,000</span> │\n",
       "├─────────────────────────────────┼────────────────────────┼───────────────┤\n",
       "│ simple_rnn (<span style=\"color: #0087ff; text-decoration-color: #0087ff\">SimpleRNN</span>)          │ (<span style=\"color: #00af00; text-decoration-color: #00af00\">32</span>, <span style=\"color: #00af00; text-decoration-color: #00af00\">128</span>)              │        <span style=\"color: #00af00; text-decoration-color: #00af00\">32,896</span> │\n",
       "├─────────────────────────────────┼────────────────────────┼───────────────┤\n",
       "│ dense (<span style=\"color: #0087ff; text-decoration-color: #0087ff\">Dense</span>)                   │ (<span style=\"color: #00af00; text-decoration-color: #00af00\">32</span>, <span style=\"color: #00af00; text-decoration-color: #00af00\">1</span>)                │           <span style=\"color: #00af00; text-decoration-color: #00af00\">129</span> │\n",
       "└─────────────────────────────────┴────────────────────────┴───────────────┘\n",
       "</pre>\n"
      ],
      "text/plain": [
       "┏━━━━━━━━━━━━━━━━━━━━━━━━━━━━━━━━━┳━━━━━━━━━━━━━━━━━━━━━━━━┳━━━━━━━━━━━━━━━┓\n",
       "┃\u001b[1m \u001b[0m\u001b[1mLayer (type)                   \u001b[0m\u001b[1m \u001b[0m┃\u001b[1m \u001b[0m\u001b[1mOutput Shape          \u001b[0m\u001b[1m \u001b[0m┃\u001b[1m \u001b[0m\u001b[1m      Param #\u001b[0m\u001b[1m \u001b[0m┃\n",
       "┡━━━━━━━━━━━━━━━━━━━━━━━━━━━━━━━━━╇━━━━━━━━━━━━━━━━━━━━━━━━╇━━━━━━━━━━━━━━━┩\n",
       "│ embedding (\u001b[38;5;33mEmbedding\u001b[0m)           │ (\u001b[38;5;34m32\u001b[0m, \u001b[38;5;34m500\u001b[0m, \u001b[38;5;34m128\u001b[0m)         │     \u001b[38;5;34m1,280,000\u001b[0m │\n",
       "├─────────────────────────────────┼────────────────────────┼───────────────┤\n",
       "│ simple_rnn (\u001b[38;5;33mSimpleRNN\u001b[0m)          │ (\u001b[38;5;34m32\u001b[0m, \u001b[38;5;34m128\u001b[0m)              │        \u001b[38;5;34m32,896\u001b[0m │\n",
       "├─────────────────────────────────┼────────────────────────┼───────────────┤\n",
       "│ dense (\u001b[38;5;33mDense\u001b[0m)                   │ (\u001b[38;5;34m32\u001b[0m, \u001b[38;5;34m1\u001b[0m)                │           \u001b[38;5;34m129\u001b[0m │\n",
       "└─────────────────────────────────┴────────────────────────┴───────────────┘\n"
      ]
     },
     "metadata": {},
     "output_type": "display_data"
    },
    {
     "data": {
      "text/html": [
       "<pre style=\"white-space:pre;overflow-x:auto;line-height:normal;font-family:Menlo,'DejaVu Sans Mono',consolas,'Courier New',monospace\"><span style=\"font-weight: bold\"> Total params: </span><span style=\"color: #00af00; text-decoration-color: #00af00\">1,313,027</span> (5.01 MB)\n",
       "</pre>\n"
      ],
      "text/plain": [
       "\u001b[1m Total params: \u001b[0m\u001b[38;5;34m1,313,027\u001b[0m (5.01 MB)\n"
      ]
     },
     "metadata": {},
     "output_type": "display_data"
    },
    {
     "data": {
      "text/html": [
       "<pre style=\"white-space:pre;overflow-x:auto;line-height:normal;font-family:Menlo,'DejaVu Sans Mono',consolas,'Courier New',monospace\"><span style=\"font-weight: bold\"> Trainable params: </span><span style=\"color: #00af00; text-decoration-color: #00af00\">1,313,025</span> (5.01 MB)\n",
       "</pre>\n"
      ],
      "text/plain": [
       "\u001b[1m Trainable params: \u001b[0m\u001b[38;5;34m1,313,025\u001b[0m (5.01 MB)\n"
      ]
     },
     "metadata": {},
     "output_type": "display_data"
    },
    {
     "data": {
      "text/html": [
       "<pre style=\"white-space:pre;overflow-x:auto;line-height:normal;font-family:Menlo,'DejaVu Sans Mono',consolas,'Courier New',monospace\"><span style=\"font-weight: bold\"> Non-trainable params: </span><span style=\"color: #00af00; text-decoration-color: #00af00\">0</span> (0.00 B)\n",
       "</pre>\n"
      ],
      "text/plain": [
       "\u001b[1m Non-trainable params: \u001b[0m\u001b[38;5;34m0\u001b[0m (0.00 B)\n"
      ]
     },
     "metadata": {},
     "output_type": "display_data"
    },
    {
     "data": {
      "text/html": [
       "<pre style=\"white-space:pre;overflow-x:auto;line-height:normal;font-family:Menlo,'DejaVu Sans Mono',consolas,'Courier New',monospace\"><span style=\"font-weight: bold\"> Optimizer params: </span><span style=\"color: #00af00; text-decoration-color: #00af00\">2</span> (12.00 B)\n",
       "</pre>\n"
      ],
      "text/plain": [
       "\u001b[1m Optimizer params: \u001b[0m\u001b[38;5;34m2\u001b[0m (12.00 B)\n"
      ]
     },
     "metadata": {},
     "output_type": "display_data"
    }
   ],
   "source": [
    "# Load the pre-trained model with ReLU activation\n",
    "model = load_model('simple_rnn_imdb.h5')\n",
    "model.summary()"
   ]
  },
  {
   "cell_type": "code",
   "execution_count": 4,
   "metadata": {},
   "outputs": [
    {
     "data": {
      "text/plain": [
       "[array([[-2.4013378e-01, -2.3598018e-01, -1.7322196e-01, ...,\n",
       "         -7.7016920e-01,  9.5589179e-01,  1.2288689e-01],\n",
       "        [-5.6869507e-02, -4.2913031e-02,  6.4591281e-02, ...,\n",
       "         -3.6664162e-02,  8.1751399e-02, -3.4351341e-02],\n",
       "        [-8.3176218e-02,  2.1250639e-02,  1.8289858e-02, ...,\n",
       "         -9.4384998e-02,  1.0854352e-01, -7.3276134e-04],\n",
       "        ...,\n",
       "        [-4.1754138e-02, -2.0806699e-03, -4.2533021e-02, ...,\n",
       "         -1.1099795e-02, -7.6545510e-03, -1.9005975e-02],\n",
       "        [-3.6985714e-03, -4.6129532e-02, -2.4838341e-04, ...,\n",
       "         -4.9933925e-02,  1.5651930e-02,  6.8000458e-02],\n",
       "        [ 6.3839041e-02,  3.0632814e-02, -3.1224711e-02, ...,\n",
       "          5.4209277e-02, -7.4210517e-02, -3.8577061e-02]], dtype=float32),\n",
       " array([[-0.06265215,  0.03428787, -0.03126448, ...,  0.00203634,\n",
       "         -0.07635994, -0.09031168],\n",
       "        [-0.05833436, -0.01604796, -0.07280277, ..., -0.02130404,\n",
       "         -0.13051999,  0.09210719],\n",
       "        [ 0.00555356,  0.1025846 ,  0.05678328, ..., -0.01380886,\n",
       "         -0.02574726,  0.05027132],\n",
       "        ...,\n",
       "        [-0.13309029,  0.07356603, -0.00621012, ...,  0.11342419,\n",
       "          0.20779906, -0.00402789],\n",
       "        [ 0.03969779, -0.01530352, -0.09514102, ..., -0.02164232,\n",
       "         -0.00586731, -0.13400605],\n",
       "        [ 0.10414318,  0.19402108,  0.07253503, ...,  0.04818588,\n",
       "         -0.10279921, -0.11740744]], dtype=float32),\n",
       " array([[-0.04849209, -0.05251313,  0.0814525 , ..., -0.02886664,\n",
       "          0.15975763,  0.17675565],\n",
       "        [-0.08542594,  0.02450174, -0.01988062, ...,  0.02733788,\n",
       "          0.01986901, -0.01552326],\n",
       "        [ 0.03817276, -0.04101142,  0.02172314, ...,  0.00750579,\n",
       "         -0.2978679 , -0.09121942],\n",
       "        ...,\n",
       "        [ 0.01618909,  0.0478113 ,  0.05663629, ...,  0.08348168,\n",
       "         -0.07729576, -0.12533334],\n",
       "        [-0.01555545,  0.00252575, -0.09847254, ...,  0.12668842,\n",
       "         -0.06624351,  0.10732868],\n",
       "        [ 0.10268687,  0.01124653,  0.08364918, ..., -0.05523955,\n",
       "         -0.1615898 ,  0.10380776]], dtype=float32),\n",
       " array([ 0.01086991, -0.00662206, -0.04213788, -0.03748681,  0.0139784 ,\n",
       "        -0.04302578, -0.0282601 , -0.01957882,  0.00392889, -0.01329415,\n",
       "        -0.05652895,  0.01438524,  0.00377373, -0.05038869, -0.05399024,\n",
       "        -0.01825812, -0.03841758, -0.00028278,  0.05239351, -0.02713325,\n",
       "         0.010483  , -0.01528839, -0.06194045, -0.05674803, -0.07180697,\n",
       "        -0.02059038,  0.05243939, -0.02106162, -0.01126271, -0.07323065,\n",
       "        -0.06301456,  0.0574031 , -0.04326609, -0.01506221,  0.00149886,\n",
       "        -0.01043225, -0.05968006, -0.08853766, -0.01195938, -0.00274471,\n",
       "        -0.04914347,  0.00378205, -0.05013147, -0.04442797, -0.04460207,\n",
       "         0.0042198 ,  0.01924984, -0.01794033, -0.06207023, -0.05967461,\n",
       "        -0.05476469, -0.03053638, -0.02313058, -0.06575026, -0.00220339,\n",
       "         0.01067915, -0.09505737, -0.05036801,  0.00797272, -0.00143478,\n",
       "        -0.00432138, -0.04516697, -0.06111658, -0.03805468, -0.00423516,\n",
       "         0.02039392, -0.00123517,  0.00329289,  0.03812423,  0.03070262,\n",
       "        -0.05484708, -0.02148839,  0.00094918, -0.05096417, -0.04193746,\n",
       "        -0.02964284, -0.04422479,  0.01173669, -0.0337568 , -0.00396788,\n",
       "        -0.00510744, -0.00849662, -0.01607832, -0.01214213, -0.08007263,\n",
       "        -0.04799978, -0.00790556, -0.06670767, -0.01633364, -0.06688165,\n",
       "        -0.04972874,  0.05211222, -0.05985743,  0.03866818, -0.02655602,\n",
       "         0.00157994, -0.07387953, -0.0688717 , -0.0375688 , -0.05166552,\n",
       "        -0.05615053,  0.02801397,  0.01145426, -0.04759633, -0.00660656,\n",
       "         0.01770949, -0.06768718, -0.00816024,  0.0123044 ,  0.04635881,\n",
       "         0.00481373, -0.04901246, -0.04867598, -0.04255402, -0.05652434,\n",
       "        -0.0342164 , -0.04990911, -0.07788681, -0.05322034, -0.02512005,\n",
       "        -0.04024334, -0.03870777, -0.03436729, -0.00497779, -0.04578486,\n",
       "        -0.05201383, -0.02273907,  0.00546915], dtype=float32),\n",
       " array([[ 1.11393385e-01],\n",
       "        [-7.78940544e-02],\n",
       "        [-2.87889868e-01],\n",
       "        [ 1.75995335e-01],\n",
       "        [ 5.11547290e-02],\n",
       "        [-1.91773027e-01],\n",
       "        [-5.44345453e-02],\n",
       "        [ 1.18372813e-01],\n",
       "        [ 8.40613469e-02],\n",
       "        [ 2.05645323e-01],\n",
       "        [-3.88737321e-02],\n",
       "        [-1.53444216e-01],\n",
       "        [ 1.41078740e-01],\n",
       "        [-3.37597430e-01],\n",
       "        [-2.15425700e-01],\n",
       "        [ 2.42858499e-01],\n",
       "        [ 8.19473788e-02],\n",
       "        [-4.43917304e-01],\n",
       "        [ 2.54521042e-01],\n",
       "        [ 1.77358821e-01],\n",
       "        [-1.00682668e-01],\n",
       "        [ 2.07471892e-01],\n",
       "        [ 9.24504250e-02],\n",
       "        [ 5.25778718e-02],\n",
       "        [-1.26736850e-01],\n",
       "        [ 6.94308728e-02],\n",
       "        [-4.18451160e-01],\n",
       "        [ 1.39893636e-01],\n",
       "        [ 5.97763434e-02],\n",
       "        [ 2.41168261e-01],\n",
       "        [-8.80755931e-02],\n",
       "        [-2.56751746e-01],\n",
       "        [-2.34821051e-01],\n",
       "        [-1.43762240e-02],\n",
       "        [ 1.60885036e-01],\n",
       "        [ 6.68980703e-02],\n",
       "        [-1.58019677e-01],\n",
       "        [-2.57496208e-01],\n",
       "        [-5.60081447e-04],\n",
       "        [ 1.19033337e-01],\n",
       "        [-1.48715656e-02],\n",
       "        [-1.44408882e-01],\n",
       "        [ 3.16328615e-01],\n",
       "        [-2.59336412e-01],\n",
       "        [-1.53132901e-01],\n",
       "        [-2.15549633e-01],\n",
       "        [ 3.47108901e-01],\n",
       "        [-6.13197833e-02],\n",
       "        [ 2.10552946e-01],\n",
       "        [-5.55050150e-02],\n",
       "        [-2.54356146e-01],\n",
       "        [ 2.04100505e-01],\n",
       "        [ 1.25416927e-02],\n",
       "        [ 9.20874253e-02],\n",
       "        [-6.11558497e-01],\n",
       "        [ 1.71375439e-01],\n",
       "        [ 1.51172355e-02],\n",
       "        [ 4.60032038e-02],\n",
       "        [-9.01951715e-02],\n",
       "        [ 1.60113275e-02],\n",
       "        [-1.55977204e-01],\n",
       "        [-8.78900513e-02],\n",
       "        [ 2.05954343e-01],\n",
       "        [ 1.88104674e-01],\n",
       "        [ 2.35635415e-01],\n",
       "        [-2.00127512e-01],\n",
       "        [ 1.69643015e-01],\n",
       "        [ 2.02329338e-01],\n",
       "        [-9.47839081e-01],\n",
       "        [ 1.61273867e-01],\n",
       "        [ 2.03245118e-01],\n",
       "        [-3.50623112e-03],\n",
       "        [-4.58118357e-02],\n",
       "        [-1.06091246e-01],\n",
       "        [-6.25936806e-01],\n",
       "        [ 1.53003395e-01],\n",
       "        [ 6.64939359e-02],\n",
       "        [-4.09224629e-02],\n",
       "        [ 4.83195856e-02],\n",
       "        [-9.18150321e-02],\n",
       "        [-3.53962891e-02],\n",
       "        [ 5.95126748e-01],\n",
       "        [ 2.10497342e-02],\n",
       "        [ 2.71785110e-02],\n",
       "        [-2.33587734e-02],\n",
       "        [ 2.45191783e-01],\n",
       "        [ 1.03532091e-01],\n",
       "        [ 5.67544512e-02],\n",
       "        [-1.78133801e-01],\n",
       "        [ 2.82148886e-02],\n",
       "        [ 2.12472543e-01],\n",
       "        [-1.35894626e-01],\n",
       "        [ 1.74120352e-01],\n",
       "        [-1.46901473e-01],\n",
       "        [ 5.95410652e-02],\n",
       "        [-1.09409168e-01],\n",
       "        [ 1.20520063e-01],\n",
       "        [-1.18836258e-02],\n",
       "        [-8.86966586e-02],\n",
       "        [-2.57216245e-01],\n",
       "        [ 1.97607234e-01],\n",
       "        [ 6.78302571e-02],\n",
       "        [-1.31319419e-01],\n",
       "        [ 1.60605803e-01],\n",
       "        [-2.31839821e-01],\n",
       "        [ 3.23222488e-01],\n",
       "        [-2.42955700e-01],\n",
       "        [-3.21893543e-02],\n",
       "        [ 3.26854326e-02],\n",
       "        [ 1.82000607e-01],\n",
       "        [-1.90538496e-01],\n",
       "        [ 1.19917411e-02],\n",
       "        [ 1.95691306e-02],\n",
       "        [ 1.84396699e-01],\n",
       "        [ 1.97835878e-01],\n",
       "        [-5.12336604e-02],\n",
       "        [-2.92869002e-01],\n",
       "        [ 2.43892759e-01],\n",
       "        [ 2.27761015e-01],\n",
       "        [-1.42772853e-01],\n",
       "        [ 2.10890651e-01],\n",
       "        [-5.69443256e-02],\n",
       "        [-7.30198994e-02],\n",
       "        [ 2.29645148e-01],\n",
       "        [-4.63505268e-01],\n",
       "        [ 1.86586007e-01],\n",
       "        [-4.66973446e-02],\n",
       "        [-5.98011389e-02]], dtype=float32),\n",
       " array([-0.3473382], dtype=float32)]"
      ]
     },
     "execution_count": 4,
     "metadata": {},
     "output_type": "execute_result"
    }
   ],
   "source": [
    "model.get_weights()"
   ]
  },
  {
   "cell_type": "code",
   "execution_count": 5,
   "metadata": {},
   "outputs": [],
   "source": [
    "# Step 2: Helper Functions\n",
    "# Function to decode reviews\n",
    "def decode_review(encoded_review):\n",
    "    return ' '.join([reverse_word_index.get(i - 3, '?') for i in encoded_review])\n",
    "\n",
    "# Function to preprocess user input\n",
    "def preprocess_text(text):\n",
    "    words = text.lower().split()\n",
    "    encoded_review = [word_index.get(word, 2) + 3 for word in words]\n",
    "    padded_review = sequence.pad_sequences([encoded_review], maxlen=500)\n",
    "    return padded_review"
   ]
  },
  {
   "cell_type": "code",
   "execution_count": 6,
   "metadata": {},
   "outputs": [],
   "source": [
    "### Prediction  function\n",
    "\n",
    "def predict_sentiment(review):\n",
    "    preprocessed_input=preprocess_text(review)\n",
    "\n",
    "    prediction=model.predict(preprocessed_input)\n",
    "\n",
    "    sentiment = 'Positive' if prediction[0][0] > 0.5 else 'Negative'\n",
    "    \n",
    "    return sentiment, prediction[0][0]\n",
    "\n"
   ]
  },
  {
   "cell_type": "code",
   "execution_count": 7,
   "metadata": {},
   "outputs": [
    {
     "name": "stdout",
     "output_type": "stream",
     "text": [
      "\u001b[1m1/1\u001b[0m \u001b[32m━━━━━━━━━━━━━━━━━━━━\u001b[0m\u001b[37m\u001b[0m \u001b[1m1s\u001b[0m 604ms/step\n",
      "Review: This movie was fantastic! The acting was great and the plot was thrilling.\n",
      "Sentiment: Positive\n",
      "Prediction Score: 0.8711062073707581\n"
     ]
    }
   ],
   "source": [
    "# Step 4: User Input and Prediction\n",
    "# Example review for prediction\n",
    "example_review = \"This movie was fantastic! The acting was great and the plot was thrilling.\"\n",
    "\n",
    "sentiment,score=predict_sentiment(example_review)\n",
    "\n",
    "print(f'Review: {example_review}')\n",
    "print(f'Sentiment: {sentiment}')\n",
    "print(f'Prediction Score: {score}')"
   ]
  },
  {
   "cell_type": "code",
   "execution_count": null,
   "metadata": {},
   "outputs": [],
   "source": []
  },
  {
   "cell_type": "code",
   "execution_count": null,
   "metadata": {},
   "outputs": [],
   "source": []
  },
  {
   "cell_type": "code",
   "execution_count": null,
   "metadata": {},
   "outputs": [],
   "source": []
  },
  {
   "cell_type": "code",
   "execution_count": null,
   "metadata": {},
   "outputs": [],
   "source": []
  }
 ],
 "metadata": {
  "kernelspec": {
   "display_name": "tf-env",
   "language": "python",
   "name": "python3"
  },
  "language_info": {
   "codemirror_mode": {
    "name": "ipython",
    "version": 3
   },
   "file_extension": ".py",
   "mimetype": "text/x-python",
   "name": "python",
   "nbconvert_exporter": "python",
   "pygments_lexer": "ipython3",
   "version": "3.10.16"
  }
 },
 "nbformat": 4,
 "nbformat_minor": 2
}
